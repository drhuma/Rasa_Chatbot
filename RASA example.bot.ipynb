{
 "cells": [
  {
   "cell_type": "markdown",
   "metadata": {},
   "source": [
    "# Part 0: Installation\n",
    "Let's start with jupyter configuration\n"
   ]
  },
  {
   "cell_type": "code",
   "execution_count": 1,
   "metadata": {},
   "outputs": [],
   "source": [
    "%matplotlib inline\n",
    "\n",
    "import logging, io, json, warnings\n",
    "logging.basicConfig(level=\"INFO\")\n",
    "warnings.filterwarnings('ignore')\n",
    "\n",
    "def pprint(o):\n",
    "    # small helper to make dict dumps a bit prettier\n",
    "    print(json.dumps(o, indent=2))"
   ]
  },
  {
   "cell_type": "markdown",
   "metadata": {},
   "source": [
    "# Installation of Rasa"
   ]
  },
  {
   "cell_type": "markdown",
   "metadata": {},
   "source": [
    "#### In your environment run:\n",
    "!{python} -m pip install -U rasa_core==0.9.6 rasa_nlu[spacy];\n",
    "\n",
    "#### as well as install a language model:\n",
    "!{python} -m spacy download en_core_web_md\n",
    "!{python} -m spacy link en_core_web_md en "
   ]
  },
  {
   "cell_type": "code",
   "execution_count": 2,
   "metadata": {},
   "outputs": [],
   "source": [
    "import sys\n",
    "python = sys.executable\n",
    "\n"
   ]
  },
  {
   "cell_type": "markdown",
   "metadata": {},
   "source": [
    "Let's test the installation - we should have rasa_nlu: 0.12.3 and rasa_core: 0.9.6 installed, and spacy model should be available."
   ]
  },
  {
   "cell_type": "code",
   "execution_count": 3,
   "metadata": {},
   "outputs": [
    {
     "name": "stdout",
     "output_type": "stream",
     "text": [
      "rasa_nlu: 0.12.3 rasa_core: 0.9.6\n",
      "Loading spaCy language model...\n",
      "Hello world!\n"
     ]
    }
   ],
   "source": [
    "import rasa_nlu\n",
    "import rasa_core\n",
    "import spacy\n",
    "\n",
    "print(\"rasa_nlu: {} rasa_core: {}\".format(rasa_nlu.__version__, rasa_core.__version__))\n",
    "print(\"Loading spaCy language model...\")\n",
    "print(spacy.load(\"en\")(\"Hello world!\"))"
   ]
  },
  {
   "cell_type": "markdown",
   "metadata": {},
   "source": [
    "### Some additional Tools needed\n",
    "To do some of the visualizations you will also need graphviz. If you don't have graphviz installed, and this doesn't work: don't worry. I'll show you the graph and besides that visualization everything else will work."
   ]
  },
  {
   "cell_type": "markdown",
   "metadata": {},
   "source": [
    "!{python} --m  pip  install pygraphviz;"
   ]
  },
  {
   "cell_type": "markdown",
   "metadata": {},
   "source": [
    "## Creating the training data for language understanding model\n",
    "Lets create some training data here, grouping user messages by their intents. The intent describes what the messages mean. Another important part of training data are entities - pieces of information which help a chatbot understand what specifically a user is asking about."
   ]
  },
  {
   "cell_type": "code",
   "execution_count": 4,
   "metadata": {},
   "outputs": [
    {
     "name": "stdout",
     "output_type": "stream",
     "text": [
      "Writing 'nlu_md' (str) to file 'nlu.md'.\n"
     ]
    }
   ],
   "source": [
    "nlu_md = \"\"\"\n",
    "## intent:greet\n",
    "- hey\n",
    "- hello there\n",
    "- hi\n",
    "- hello there\n",
    "- good morning\n",
    "- good evening\n",
    "- moin\n",
    "- hey there\n",
    "- let's go\n",
    "- hey dude\n",
    "- goodmorning\n",
    "- goodevening\n",
    "- good afternoon\n",
    "\n",
    "## intent:goodbye\n",
    "- cu\n",
    "- good by\n",
    "- cee you later\n",
    "- good night\n",
    "- good afternoon\n",
    "- bye\n",
    "- goodbye\n",
    "- have a nice day\n",
    "- see you around\n",
    "- bye bye\n",
    "- see you later\n",
    "\n",
    "## intent:mood_affirm\n",
    "- yes\n",
    "- indeed\n",
    "- of course\n",
    "- that sounds good\n",
    "- correct\n",
    "\n",
    "## intent:mood_deny\n",
    "- no\n",
    "- never\n",
    "- I don't think so\n",
    "- don't like that\n",
    "- no way\n",
    "- not really\n",
    "\n",
    "## intent:mood_great\n",
    "- perfect\n",
    "- very good\n",
    "- great\n",
    "- amazing\n",
    "- feeling like a king\n",
    "- wonderful\n",
    "- I am feeling very good\n",
    "- I am great\n",
    "- I am amazing\n",
    "- I am going to save the world\n",
    "- super\n",
    "- extremely good\n",
    "- so so perfect\n",
    "- so good\n",
    "- so perfect\n",
    "\n",
    "## intent:mood_unhappy\n",
    "- my day was horrible\n",
    "- I am sad\n",
    "- I don't feel very well\n",
    "- I am disappointed\n",
    "- super sad\n",
    "- I'm so sad\n",
    "- sad\n",
    "- very sad\n",
    "- unhappy\n",
    "- bad\n",
    "- very bad\n",
    "- awful\n",
    "- terrible\n",
    "- not so good\n",
    "- not very good\n",
    "- extremly sad\n",
    "- so saad\n",
    "- Quite bad - can I get a cute picture of a [bird](group:birds), please?\n",
    "- Really bad and only [doggo](group:shibes) pics and change that.\n",
    "- Not good. The only thing that could make me fell better is a picture of a cute [kitten](group:cats).\n",
    "- so sad. Only the picture of a [puppy](group:shibes) could make it better.\n",
    "- I am very sad. I need a [cat](group:cats) picture.\n",
    "- Extremely sad. Only the cute [doggo](group:shibes) pics can make me feel better.\n",
    "- Bad. Please show me a [bird](group:birds) pic!\n",
    "- Pretty bad to be honest. Can you show me a [puppy](group:shibes) picture to make me fell better?\n",
    "\n",
    "## intent: inform\n",
    "- A [dog](group:shibes)\n",
    "- [dog](group:shibes)\n",
    "- [bird](group:birds)\n",
    "- a [cat](group:cats)\n",
    "- [cat](group:cats)\n",
    "- a [bird](group:birds)\n",
    "- of a [dog](group:shibes)\n",
    "- of a [cat](group:cats)\n",
    "- a [bird](group:birds), please\n",
    "- a [dog](group:shibes), please\n",
    "\"\"\"\n",
    "%store nlu_md > nlu.md"
   ]
  },
  {
   "cell_type": "markdown",
   "metadata": {},
   "source": [
    "### Defining the NLU model"
   ]
  },
  {
   "cell_type": "code",
   "execution_count": 5,
   "metadata": {},
   "outputs": [
    {
     "name": "stdout",
     "output_type": "stream",
     "text": [
      "Writing 'config' (str) to file 'config.yml'.\n"
     ]
    }
   ],
   "source": [
    "config = \"\"\"\n",
    "language: \"en\"\n",
    "\n",
    "pipeline:\n",
    "- name: \"nlp_spacy\"                   # loads the spacy language model\n",
    "- name: \"tokenizer_spacy\"             # splits the sentence into tokens\n",
    "- name: \"ner_crf\"                   # uses the pretrained spacy NER model\n",
    "- name: \"intent_featurizer_spacy\"     # transform the sentence into a vector representation\n",
    "- name: \"intent_classifier_sklearn\"   # uses the vector representation to classify using SVM\n",
    "- name: \"ner_synonyms\"                # trains the synonyms\n",
    "\"\"\" \n",
    "\n",
    "%store config > config.yml"
   ]
  },
  {
   "cell_type": "markdown",
   "metadata": {},
   "source": [
    "### Training the Rasa NLU Model"
   ]
  },
  {
   "cell_type": "code",
   "execution_count": 6,
   "metadata": {},
   "outputs": [
    {
     "name": "stderr",
     "output_type": "stream",
     "text": [
      "INFO:rasa_nlu.training_data.loading:Training data format of nlu.md is md\n",
      "INFO:rasa_nlu.training_data.training_data:Training data stats: \n",
      "\t- intent examples: 85 (7 distinct intents)\n",
      "\t- Found intents: 'mood_deny', 'inform', 'mood_unhappy', 'mood_great', 'greet', 'mood_affirm', 'goodbye'\n",
      "\t- entity examples: 18 (1 distinct entities)\n",
      "\t- found entities: 'group'\n",
      "\n",
      "INFO:rasa_nlu.utils.spacy_utils:Trying to load spacy model with name 'en'\n",
      "INFO:rasa_nlu.components:Added 'nlp_spacy' to component cache. Key 'nlp_spacy-en'.\n",
      "INFO:rasa_nlu.model:Starting to train component nlp_spacy\n",
      "INFO:rasa_nlu.model:Finished training component.\n",
      "INFO:rasa_nlu.model:Starting to train component tokenizer_spacy\n",
      "INFO:rasa_nlu.model:Finished training component.\n",
      "INFO:rasa_nlu.model:Starting to train component ner_crf\n",
      "INFO:rasa_nlu.model:Finished training component.\n",
      "INFO:rasa_nlu.model:Starting to train component intent_featurizer_spacy\n",
      "INFO:rasa_nlu.model:Finished training component.\n",
      "INFO:rasa_nlu.model:Starting to train component intent_classifier_sklearn\n"
     ]
    },
    {
     "name": "stdout",
     "output_type": "stream",
     "text": [
      "Fitting 2 folds for each of 6 candidates, totalling 12 fits\n"
     ]
    },
    {
     "name": "stderr",
     "output_type": "stream",
     "text": [
      "[Parallel(n_jobs=1)]: Done  12 out of  12 | elapsed:    0.1s finished\n",
      "INFO:rasa_nlu.model:Finished training component.\n",
      "INFO:rasa_nlu.model:Starting to train component ner_synonyms\n",
      "INFO:rasa_nlu.model:Finished training component.\n",
      "INFO:rasa_nlu.model:Successfully saved model into 'C:\\Users\\drhum\\Desktop\\Json file eg\\models\\nlu\\default\\current'\n"
     ]
    }
   ],
   "source": [
    "from rasa_nlu.training_data import load_data\n",
    "from rasa_nlu.config import RasaNLUModelConfig\n",
    "from rasa_nlu.model import Trainer\n",
    "from rasa_nlu import config\n",
    "\n",
    "# loading the nlu training samples\n",
    "training_data = load_data(\"nlu.md\")\n",
    "\n",
    "# trainer to educate our pipeline\n",
    "trainer = Trainer(config.load(\"config.yml\"))\n",
    "\n",
    "# train the model!\n",
    "interpreter = trainer.train(training_data)\n",
    "\n",
    "# store it for future use\n",
    "model_directory = trainer.persist(\"./models/nlu\", fixed_model_name=\"current\")"
   ]
  },
  {
   "cell_type": "markdown",
   "metadata": {},
   "source": [
    "### Using & evaluating the NLU model\n",
    "Let's see how the model is performing on some of the inputs:"
   ]
  },
  {
   "cell_type": "code",
   "execution_count": 7,
   "metadata": {},
   "outputs": [
    {
     "name": "stdout",
     "output_type": "stream",
     "text": [
      "{\n",
      "  \"intent\": {\n",
      "    \"name\": \"mood_unhappy\",\n",
      "    \"confidence\": 0.4792836100242751\n",
      "  },\n",
      "  \"entities\": [\n",
      "    {\n",
      "      \"start\": 40,\n",
      "      \"end\": 43,\n",
      "      \"value\": \"shibes\",\n",
      "      \"entity\": \"group\",\n",
      "      \"confidence\": 0.8466218271668446,\n",
      "      \"extractor\": \"ner_crf\",\n",
      "      \"processors\": [\n",
      "        \"ner_synonyms\"\n",
      "      ]\n",
      "    }\n",
      "  ],\n",
      "  \"intent_ranking\": [\n",
      "    {\n",
      "      \"name\": \"mood_unhappy\",\n",
      "      \"confidence\": 0.4792836100242751\n",
      "    },\n",
      "    {\n",
      "      \"name\": \"goodbye\",\n",
      "      \"confidence\": 0.1252488423202362\n",
      "    },\n",
      "    {\n",
      "      \"name\": \"mood_great\",\n",
      "      \"confidence\": 0.1237364148277753\n",
      "    },\n",
      "    {\n",
      "      \"name\": \"inform\",\n",
      "      \"confidence\": 0.1139075256591008\n",
      "    },\n",
      "    {\n",
      "      \"name\": \"greet\",\n",
      "      \"confidence\": 0.08351919866526931\n",
      "    },\n",
      "    {\n",
      "      \"name\": \"mood_affirm\",\n",
      "      \"confidence\": 0.05270512691648722\n",
      "    },\n",
      "    {\n",
      "      \"name\": \"mood_deny\",\n",
      "      \"confidence\": 0.021599281586855916\n",
      "    }\n",
      "  ],\n",
      "  \"text\": \"I am sad, plased send me a picture of a dog\"\n",
      "}\n"
     ]
    }
   ],
   "source": [
    "pprint(interpreter.parse(\"I am sad, plased send me a picture of a dog\"))"
   ]
  },
  {
   "cell_type": "markdown",
   "metadata": {},
   "source": [
    "\n",
    "Instead of evaluating it by hand, the model can also be evaluated on a test data set (though for simplicity we are going to use the same for test and train):"
   ]
  },
  {
   "cell_type": "code",
   "execution_count": 8,
   "metadata": {},
   "outputs": [
    {
     "name": "stderr",
     "output_type": "stream",
     "text": [
      "INFO:rasa_nlu.components:Added 'nlp_spacy' to component cache. Key 'nlp_spacy-en'.\n",
      "INFO:rasa_nlu.training_data.loading:Training data format of nlu.md is md\n",
      "INFO:rasa_nlu.training_data.training_data:Training data stats: \n",
      "\t- intent examples: 85 (7 distinct intents)\n",
      "\t- Found intents: 'mood_deny', 'inform', 'mood_unhappy', 'mood_great', 'greet', 'mood_affirm', 'goodbye'\n",
      "\t- entity examples: 18 (1 distinct entities)\n",
      "\t- found entities: 'group'\n",
      "\n",
      "INFO:rasa_nlu.evaluate:Intent evaluation results:\n",
      "INFO:rasa_nlu.evaluate:Intent Evaluation: Only considering those 85 examples that have a defined intent out of 85 examples\n",
      "INFO:rasa_nlu.evaluate:F1-Score:  0.9881730469965763\n",
      "INFO:rasa_nlu.evaluate:Precision: 0.9890756302521008\n",
      "INFO:rasa_nlu.evaluate:Accuracy:  0.9882352941176471\n",
      "INFO:rasa_nlu.evaluate:Classification report: \n",
      "              precision    recall  f1-score   support\n",
      "\n",
      "     goodbye       1.00      0.91      0.95        11\n",
      "       greet       0.93      1.00      0.96        13\n",
      "      inform       1.00      1.00      1.00        10\n",
      " mood_affirm       1.00      1.00      1.00         5\n",
      "   mood_deny       1.00      1.00      1.00         6\n",
      "  mood_great       1.00      1.00      1.00        15\n",
      "mood_unhappy       1.00      1.00      1.00        25\n",
      "\n",
      " avg / total       0.99      0.99      0.99        85\n",
      "\n",
      "INFO:rasa_nlu.evaluate:Confusion matrix, without normalization: \n",
      "[[10  1  0  0  0  0  0]\n",
      " [ 0 13  0  0  0  0  0]\n",
      " [ 0  0 10  0  0  0  0]\n",
      " [ 0  0  0  5  0  0  0]\n",
      " [ 0  0  0  0  6  0  0]\n",
      " [ 0  0  0  0  0 15  0]\n",
      " [ 0  0  0  0  0  0 25]]\n"
     ]
    },
    {
     "data": {
      "image/png": "[encoded data removed]",
      "text/plain": [
       "<Figure size 432x288 with 2 Axes>"
      ]
     },
     "metadata": {},
     "output_type": "display_data"
    },
    {
     "name": "stderr",
     "output_type": "stream",
     "text": [
      "INFO:rasa_nlu.evaluate:Entity evaluation results:\n",
      "INFO:rasa_nlu.evaluate:Evaluation for entity extractor: ner_crf \n",
      "INFO:rasa_nlu.evaluate:F1-Score:  0.9775529042760154\n",
      "INFO:rasa_nlu.evaluate:Precision: 0.9780517143345049\n",
      "INFO:rasa_nlu.evaluate:Accuracy:  0.9787985865724381\n",
      "INFO:rasa_nlu.evaluate:Classification report: \n",
      "             precision    recall  f1-score   support\n",
      "\n",
      "      group       0.93      0.72      0.81        18\n",
      "  no_entity       0.98      1.00      0.99       265\n",
      "\n",
      "avg / total       0.98      0.98      0.98       283\n",
      "\n"
     ]
    }
   ],
   "source": [
    "from rasa_nlu.evaluate import run_evaluation\n",
    "\n",
    "run_evaluation(\"nlu.md\", model_directory)\n"
   ]
  },
  {
   "cell_type": "markdown",
   "metadata": {},
   "source": [
    "# Part 2: Handling the dialogue\n",
    "We have taught our chatbot how to understand user inputs. Now, it's time to teach our chatbot how to make responses by training a dialogue management model using Rasa Core."
   ]
  },
  {
   "cell_type": "markdown",
   "metadata": {},
   "source": [
    "## Writing Stories\n",
    "The training data for dialogue management models is called stories. A story is an actual conversation where user inputs are expressed as intents as well as corresponding entities, and chatbot responses are expressed as actions.\n",
    "\n",
    "Let's take a look into the format of the stories in more detail:\n",
    "\n",
    "A story starts with ## and you can give it a name. Lines that start with * are messages sent by the user. Although you don't write the actual message, but rather the intent (and the entities) that represent what the user means. Lines that start with - are actions taken by your bot. In this case all of our actions are just messages sent back to the user, like utter_greet, but in general an action can do anything, including calling an API and interacting with the outside world."
   ]
  },
  {
   "cell_type": "code",
   "execution_count": 9,
   "metadata": {},
   "outputs": [
    {
     "name": "stdout",
     "output_type": "stream",
     "text": [
      "Writing 'stories_md' (str) to file 'stories.md'.\n"
     ]
    }
   ],
   "source": [
    "stories_md = \"\"\"\n",
    "## happy path               <!-- name of the story - just for debugging -->\n",
    "* greet              \n",
    "  - utter_greet\n",
    "* mood_great               <!-- user utterance, in format intent[entities] -->\n",
    "  - utter_happy\n",
    "* mood_affirm\n",
    "  - utter_happy\n",
    "* mood_affirm\n",
    "  - utter_goodbye\n",
    "  \n",
    "## sad path 1               <!-- this is already the start of the next story -->\n",
    "* greet\n",
    "  - utter_greet             <!-- action the bot should execute -->\n",
    "* mood_unhappy\n",
    "  - utter_ask_picture\n",
    "* inform{\"animal\":\"dog\"}  \n",
    "  - action_retrieve_image\n",
    "  - utter_did_that_help\n",
    "* mood_affirm\n",
    "  - utter_happy\n",
    "\n",
    "## sad path 2\n",
    "* greet\n",
    "  - utter_greet\n",
    "* mood_unhappy\n",
    "  - utter_ask_picture\n",
    "* inform{\"group\":\"cat\"}\n",
    "  - action_retrieve_image\n",
    "  - utter_did_that_help\n",
    "* mood_deny\n",
    "  - utter_goodbye\n",
    "  \n",
    "## sad path 3\n",
    "* greet\n",
    "  - utter_greet\n",
    "* mood_unhappy{\"group\":\"puppy\"}\n",
    "  - action_retrieve_image\n",
    "  - utter_did_that_help\n",
    "* mood_affirm\n",
    "  - utter_happy\n",
    "  \n",
    "## strange user\n",
    "* mood_affirm\n",
    "  - utter_happy\n",
    "* mood_affirm\n",
    "  - utter_unclear\n",
    "\n",
    "## say goodbye\n",
    "* goodbye\n",
    "  - utter_goodbye\n",
    "\n",
    "## fallback\n",
    "- utter_unclear\n",
    "\n",
    "\"\"\"\n",
    "\n",
    "%store stories_md > stories.md"
   ]
  },
  {
   "cell_type": "markdown",
   "metadata": {},
   "source": [
    "## Defining a Domain\n",
    "The domain specifies the universe that the bot operates in. In chatbot's world this universe consists of intents and entities as well as the actions which appear in training stories. The domain can also contain the templates for the answers a chabot should use to respond to the user and slots which will help the chatbot to keep track of the context. Let's look into the domain of our bot:"
   ]
  },
  {
   "cell_type": "code",
   "execution_count": 10,
   "metadata": {},
   "outputs": [
    {
     "name": "stdout",
     "output_type": "stream",
     "text": [
      "Writing 'domain_yml' (str) to file 'domain.yml'.\n"
     ]
    }
   ],
   "source": [
    "domain_yml = \"\"\"\n",
    "intents:\n",
    "- greet\n",
    "- goodbye\n",
    "- mood_affirm\n",
    "- mood_deny\n",
    "- mood_great\n",
    "- mood_unhappy\n",
    "- inform\n",
    "\n",
    "slots:\n",
    "  group:\n",
    "    type: text\n",
    "    \n",
    "entities:\n",
    "- group\n",
    "\n",
    "actions:\n",
    "- utter_greet\n",
    "- utter_did_that_help\n",
    "- utter_happy\n",
    "- utter_goodbye\n",
    "- utter_unclear\n",
    "- utter_ask_picture\n",
    "- __main__.ApiAction\n",
    "\n",
    "templates:\n",
    "  utter_greet:\n",
    "  - text: \"Hey! How are you?\"\n",
    "\n",
    "  utter_did_that_help:\n",
    "  - text: \"Did that help you?\"\n",
    "\n",
    "  utter_unclear:\n",
    "  - text: \"I am not sure what you are aiming for.\"\n",
    "  \n",
    "  utter_happy:\n",
    "  - text: \"Great carry on!\"\n",
    "\n",
    "  utter_goodbye:\n",
    "  - text: \"Bye\"\n",
    "  \n",
    "  utter_ask_picture:\n",
    "  - text: \"To cheer you up, I can show you a cute picture of a dog, cat or a bird. Which one do you choose?\"\n",
    "\"\"\"\n",
    "\n",
    "%store domain_yml > domain.yml"
   ]
  },
  {
   "cell_type": "markdown",
   "metadata": {},
   "source": [
    "### Adding Custom Actions\n",
    "The responses of the chatbot can be more than just simple text responses - we can call an API to retrieve some data which can later be used to create a response to user input. Let's create a custom action for our bot which, when predicted, will make an API and retrieve a picture of a dog, a cat or a bird, depending on which was specified by the user. The bot will know which type of picture should be received by retrieving the value of the slot group."
   ]
  },
  {
   "cell_type": "code",
   "execution_count": 11,
   "metadata": {},
   "outputs": [],
   "source": [
    "from rasa_core.actions import Action\n",
    "from rasa_core.events import SlotSet\n",
    "from IPython.core.display import Image, display\n",
    "\n",
    "import requests\n",
    "\n",
    "class ApiAction(Action):\n",
    "    def name(self):\n",
    "        return \"action_retrieve_image\"\n",
    "\n",
    "    def run(self, dispatcher, tracker, domain):\n",
    "        \n",
    "        group = tracker.get_slot('group')\n",
    "        \n",
    "        r = requests.get('http://shibe.online/api/shibes?count=[1-100]&urls=[true/false]&httpsUrls=[true/false]'.format(group))\n",
    "        response = r.content.decode()\n",
    "        response = response.replace('[\"',\"\")\n",
    "        response = response.replace('\"]',\"\")\n",
    "   \n",
    "        \n",
    "        #display(Image(response[0], height=550, width=520))\n",
    "        dispatcher.utter_message(\"Here is something to cheer you up: {}\".format(response))"
   ]
  },
  {
   "cell_type": "markdown",
   "metadata": {},
   "source": [
    "## Training your Dialogue Model\n",
    "Now we are good to train the dialogue management model. We can specify what policies should be used to train it - in this case, the model is a neural network implemented in Keras which learns to predict which action to take next. We can also tweak the parameters of what percentage of training examples should be used for validation and how many epochs should be used for training."
   ]
  },
  {
   "cell_type": "code",
   "execution_count": 12,
   "metadata": {},
   "outputs": [
    {
     "name": "stderr",
     "output_type": "stream",
     "text": [
      "INFO:apscheduler.scheduler:Scheduler started\n",
      "Using TensorFlow backend.\n",
      "Processed Story Blocks: 100%|██████████| 7/7 [00:00<00:00, 306.18it/s, # trackers=1]\n",
      "Processed Story Blocks: 100%|██████████| 7/7 [00:00<00:00, 163.23it/s, # trackers=7]\n",
      "Processed Story Blocks: 100%|██████████| 7/7 [00:00<00:00, 84.59it/s, # trackers=14]\n",
      "Processed Story Blocks: 100%|██████████| 7/7 [00:00<00:00, 98.87it/s, # trackers=14]\n",
      "INFO:rasa_core.featurizers:Creating states and action examples from collected trackers (by MaxHistoryTrackerFeaturizer)...\n",
      "Processed trackers: 100%|██████████| 229/229 [00:14<00:00, 15.62it/s, # actions=263]\n",
      "INFO:rasa_core.featurizers:Created 263 action examples.\n",
      "Processed actions: 263it [00:00, 269.63it/s, # examples=263]\n",
      "INFO:rasa_core.policies.memoization:Memorized 263 unique action examples.\n",
      "INFO:rasa_core.featurizers:Creating states and action examples from collected trackers (by MaxHistoryTrackerFeaturizer)...\n",
      "Processed trackers: 100%|██████████| 229/229 [00:13<00:00, 17.34it/s, # actions=263]\n",
      "INFO:rasa_core.featurizers:Created 263 action examples.\n"
     ]
    },
    {
     "name": "stdout",
     "output_type": "stream",
     "text": [
      "_________________________________________________________________\n",
      "Layer (type)                 Output Shape              Param #   \n",
      "=================================================================\n",
      "masking_1 (Masking)          (None, 5, 18)             0         \n",
      "_________________________________________________________________\n",
      "lstm_1 (LSTM)                (None, 32)                6528      \n",
      "_________________________________________________________________\n",
      "dense_1 (Dense)              (None, 9)                 297       \n",
      "_________________________________________________________________\n",
      "activation_1 (Activation)    (None, 9)                 0         \n",
      "=================================================================\n",
      "Total params: 6,825\n",
      "Trainable params: 6,825\n",
      "Non-trainable params: 0\n",
      "_________________________________________________________________\n"
     ]
    },
    {
     "name": "stderr",
     "output_type": "stream",
     "text": [
      "INFO:rasa_core.policies.keras_policy:Fitting model with 263 total samples and a validation split of 0.0\n"
     ]
    },
    {
     "name": "stdout",
     "output_type": "stream",
     "text": [
      "Epoch 1/200\n",
      "263/263 [==============================] - ETA: 10s - loss: 2.2361 - acc: 0.12 - 2s 6ms/step - loss: 2.1510 - acc: 0.1711\n",
      "Epoch 2/200\n",
      "263/263 [==============================] - ETA: 0s - loss: 2.0558 - acc: 0.312 - 0s 228us/step - loss: 2.0350 - acc: 0.3650\n",
      "Epoch 3/200\n",
      "263/263 [==============================] - ETA: 0s - loss: 1.9512 - acc: 0.562 - 0s 250us/step - loss: 1.9331 - acc: 0.4639\n",
      "Epoch 4/200\n",
      "263/263 [==============================] - ETA: 0s - loss: 1.8259 - acc: 0.500 - 0s 205us/step - loss: 1.8328 - acc: 0.4677\n",
      "Epoch 5/200\n",
      "263/263 [==============================] - ETA: 0s - loss: 1.7603 - acc: 0.500 - 0s 220us/step - loss: 1.7569 - acc: 0.4677\n",
      "Epoch 6/200\n",
      "263/263 [==============================] - ETA: 0s - loss: 1.6719 - acc: 0.500 - 0s 205us/step - loss: 1.7099 - acc: 0.4677\n",
      "Epoch 7/200\n",
      "263/263 [==============================] - ETA: 0s - loss: 1.6713 - acc: 0.500 - 0s 205us/step - loss: 1.6677 - acc: 0.4677\n",
      "Epoch 8/200\n",
      "263/263 [==============================] - ETA: 0s - loss: 1.7556 - acc: 0.375 - 0s 228us/step - loss: 1.6549 - acc: 0.4677\n",
      "Epoch 9/200\n",
      "263/263 [==============================] - ETA: 0s - loss: 1.6128 - acc: 0.406 - 0s 231us/step - loss: 1.6171 - acc: 0.4677\n",
      "Epoch 10/200\n",
      "263/263 [==============================] - ETA: 0s - loss: 1.4683 - acc: 0.531 - ETA: 0s - loss: 1.6055 - acc: 0.464 - 0s 307us/step - loss: 1.6087 - acc: 0.4677\n",
      "Epoch 11/200\n",
      "263/263 [==============================] - ETA: 0s - loss: 1.6263 - acc: 0.437 - 0s 205us/step - loss: 1.5900 - acc: 0.4677\n",
      "Epoch 12/200\n",
      "263/263 [==============================] - ETA: 0s - loss: 1.4267 - acc: 0.531 - 0s 209us/step - loss: 1.5675 - acc: 0.4677\n",
      "Epoch 13/200\n",
      "263/263 [==============================] - ETA: 0s - loss: 1.4761 - acc: 0.468 - ETA: 0s - loss: 1.4947 - acc: 0.500 - 0s 322us/step - loss: 1.5355 - acc: 0.4677\n",
      "Epoch 14/200\n",
      "263/263 [==============================] - ETA: 0s - loss: 1.5916 - acc: 0.437 - ETA: 0s - loss: 1.5125 - acc: 0.472 - 0s 296us/step - loss: 1.5208 - acc: 0.4677\n",
      "Epoch 15/200\n",
      "263/263 [==============================] - ETA: 0s - loss: 1.5360 - acc: 0.437 - ETA: 0s - loss: 1.4852 - acc: 0.464 - 0s 288us/step - loss: 1.4816 - acc: 0.4677\n",
      "Epoch 16/200\n",
      "263/263 [==============================] - ETA: 0s - loss: 1.6145 - acc: 0.406 - 0s 239us/step - loss: 1.4617 - acc: 0.4677\n",
      "Epoch 17/200\n",
      "263/263 [==============================] - ETA: 0s - loss: 1.5024 - acc: 0.406 - ETA: 0s - loss: 1.4237 - acc: 0.468 - 0s 326us/step - loss: 1.4390 - acc: 0.4677\n",
      "Epoch 18/200\n",
      "263/263 [==============================] - ETA: 0s - loss: 1.4004 - acc: 0.468 - 0s 197us/step - loss: 1.4071 - acc: 0.4677\n",
      "Epoch 19/200\n",
      "263/263 [==============================] - ETA: 0s - loss: 1.4146 - acc: 0.468 - ETA: 0s - loss: 1.3554 - acc: 0.476 - 0s 281us/step - loss: 1.3712 - acc: 0.4677\n",
      "Epoch 20/200\n",
      "263/263 [==============================] - ETA: 0s - loss: 1.3392 - acc: 0.468 - ETA: 0s - loss: 1.3187 - acc: 0.495 - 0s 485us/step - loss: 1.3396 - acc: 0.4867\n",
      "Epoch 21/200\n",
      "263/263 [==============================] - ETA: 0s - loss: 1.2417 - acc: 0.531 - ETA: 0s - loss: 1.2869 - acc: 0.494 - ETA: 0s - loss: 1.3112 - acc: 0.480 - 0s 474us/step - loss: 1.3061 - acc: 0.4829\n",
      "Epoch 22/200\n",
      "263/263 [==============================] - ETA: 0s - loss: 1.2663 - acc: 0.500 - ETA: 0s - loss: 1.2722 - acc: 0.468 - 0s 391us/step - loss: 1.2644 - acc: 0.4867\n",
      "Epoch 23/200\n",
      "263/263 [==============================] - ETA: 0s - loss: 1.2563 - acc: 0.531 - ETA: 0s - loss: 1.2384 - acc: 0.495 - 0s 284us/step - loss: 1.2294 - acc: 0.4981\n",
      "Epoch 24/200\n",
      "263/263 [==============================] - ETA: 0s - loss: 0.9982 - acc: 0.656 - ETA: 0s - loss: 1.1851 - acc: 0.513 - 0s 322us/step - loss: 1.1879 - acc: 0.5095\n",
      "Epoch 25/200\n",
      "263/263 [==============================] - ETA: 0s - loss: 1.2449 - acc: 0.437 - ETA: 0s - loss: 1.1334 - acc: 0.536 - 0s 466us/step - loss: 1.1355 - acc: 0.5285\n",
      "Epoch 26/200\n",
      "263/263 [==============================] - ETA: 0s - loss: 1.2832 - acc: 0.406 - ETA: 0s - loss: 1.1069 - acc: 0.515 - 0s 330us/step - loss: 1.0948 - acc: 0.5171\n",
      "Epoch 27/200\n",
      "263/263 [==============================] - ETA: 0s - loss: 1.1936 - acc: 0.468 - ETA: 0s - loss: 1.0620 - acc: 0.566 - 0s 273us/step - loss: 1.0763 - acc: 0.5589\n",
      "Epoch 28/200\n",
      "263/263 [==============================] - ETA: 0s - loss: 0.9217 - acc: 0.656 - ETA: 0s - loss: 1.0253 - acc: 0.609 - 0s 273us/step - loss: 1.0255 - acc: 0.6122\n",
      "Epoch 29/200\n",
      "263/263 [==============================] - ETA: 0s - loss: 1.1262 - acc: 0.531 - ETA: 0s - loss: 1.0049 - acc: 0.631 - 0s 444us/step - loss: 0.9783 - acc: 0.6654\n",
      "Epoch 30/200\n",
      "263/263 [==============================] - ETA: 0s - loss: 1.0011 - acc: 0.625 - ETA: 0s - loss: 0.9456 - acc: 0.656 - 0s 303us/step - loss: 0.9456 - acc: 0.6730\n",
      "Epoch 31/200\n",
      "263/263 [==============================] - ETA: 0s - loss: 0.8961 - acc: 0.687 - ETA: 0s - loss: 0.9208 - acc: 0.712 - 0s 360us/step - loss: 0.9188 - acc: 0.7110\n",
      "Epoch 32/200\n",
      "263/263 [==============================] - ETA: 0s - loss: 1.1021 - acc: 0.593 - ETA: 0s - loss: 0.8670 - acc: 0.770 - 0s 341us/step - loss: 0.8686 - acc: 0.7567\n",
      "Epoch 33/200\n",
      "263/263 [==============================] - ETA: 0s - loss: 0.7774 - acc: 0.843 - ETA: 0s - loss: 0.8229 - acc: 0.732 - 0s 292us/step - loss: 0.8450 - acc: 0.7262\n",
      "Epoch 34/200\n",
      "263/263 [==============================] - ETA: 0s - loss: 0.8676 - acc: 0.812 - ETA: 0s - loss: 0.8296 - acc: 0.767 - 0s 330us/step - loss: 0.8343 - acc: 0.7681\n",
      "Epoch 35/200\n",
      "263/263 [==============================] - ETA: 0s - loss: 0.8252 - acc: 0.843 - 0s 201us/step - loss: 0.7852 - acc: 0.7909\n",
      "Epoch 36/200\n",
      "263/263 [==============================] - ETA: 0s - loss: 0.9388 - acc: 0.718 - 0s 186us/step - loss: 0.7534 - acc: 0.8023\n",
      "Epoch 37/200\n",
      "263/263 [==============================] - ETA: 0s - loss: 0.6809 - acc: 0.843 - 0s 258us/step - loss: 0.7589 - acc: 0.7985\n",
      "Epoch 38/200\n",
      "263/263 [==============================] - ETA: 0s - loss: 0.6189 - acc: 0.843 - 0s 235us/step - loss: 0.7135 - acc: 0.8061\n",
      "Epoch 39/200\n",
      "263/263 [==============================] - ETA: 0s - loss: 0.7309 - acc: 0.843 - 0s 284us/step - loss: 0.7136 - acc: 0.8061\n",
      "Epoch 40/200\n",
      "263/263 [==============================] - ETA: 0s - loss: 0.4878 - acc: 0.937 - ETA: 0s - loss: 0.6707 - acc: 0.859 - 0s 360us/step - loss: 0.6788 - acc: 0.8327\n",
      "Epoch 41/200\n",
      "263/263 [==============================] - ETA: 0s - loss: 0.7722 - acc: 0.812 - 0s 303us/step - loss: 0.6531 - acc: 0.8213\n",
      "Epoch 42/200\n",
      "263/263 [==============================] - ETA: 0s - loss: 0.6312 - acc: 0.875 - ETA: 0s - loss: 0.6141 - acc: 0.890 - 0s 398us/step - loss: 0.6572 - acc: 0.8593\n",
      "Epoch 43/200\n",
      "263/263 [==============================] - ETA: 0s - loss: 0.5020 - acc: 0.906 - ETA: 0s - loss: 0.6324 - acc: 0.857 - 0s 383us/step - loss: 0.6327 - acc: 0.8593\n",
      "Epoch 44/200\n",
      "263/263 [==============================] - ETA: 0s - loss: 0.7051 - acc: 0.843 - ETA: 0s - loss: 0.6164 - acc: 0.867 - 0s 345us/step - loss: 0.6209 - acc: 0.8745\n",
      "Epoch 45/200\n",
      "263/263 [==============================] - ETA: 0s - loss: 0.5504 - acc: 0.843 - ETA: 0s - loss: 0.6443 - acc: 0.851 - 0s 375us/step - loss: 0.6108 - acc: 0.8631\n",
      "Epoch 46/200\n",
      "263/263 [==============================] - ETA: 0s - loss: 0.6312 - acc: 0.812 - ETA: 0s - loss: 0.6151 - acc: 0.867 - 0s 413us/step - loss: 0.5933 - acc: 0.8517\n",
      "Epoch 47/200\n",
      "263/263 [==============================] - ETA: 0s - loss: 0.5063 - acc: 0.906 - ETA: 0s - loss: 0.5592 - acc: 0.859 - 0s 326us/step - loss: 0.5624 - acc: 0.8517\n",
      "Epoch 48/200\n",
      "263/263 [==============================] - ETA: 0s - loss: 0.4968 - acc: 0.906 - ETA: 0s - loss: 0.5291 - acc: 0.900 - 0s 375us/step - loss: 0.5591 - acc: 0.8859\n",
      "Epoch 49/200\n",
      "263/263 [==============================] - ETA: 0s - loss: 0.7830 - acc: 0.812 - ETA: 0s - loss: 0.5951 - acc: 0.868 - 0s 353us/step - loss: 0.5582 - acc: 0.8783\n",
      "Epoch 50/200\n",
      "263/263 [==============================] - ETA: 0s - loss: 0.6072 - acc: 0.843 - ETA: 0s - loss: 0.5529 - acc: 0.843 - 0s 337us/step - loss: 0.5597 - acc: 0.8593\n",
      "Epoch 51/200\n",
      "263/263 [==============================] - ETA: 0s - loss: 0.5671 - acc: 0.906 - ETA: 0s - loss: 0.5055 - acc: 0.893 - 0s 356us/step - loss: 0.5336 - acc: 0.8859\n"
     ]
    },
    {
     "name": "stdout",
     "output_type": "stream",
     "text": [
      "Epoch 52/200\n",
      "263/263 [==============================] - ETA: 0s - loss: 0.5689 - acc: 0.812 - 0s 243us/step - loss: 0.5364 - acc: 0.8745\n",
      "Epoch 53/200\n",
      "263/263 [==============================] - ETA: 0s - loss: 0.4865 - acc: 0.843 - ETA: 0s - loss: 0.5144 - acc: 0.886 - 0s 296us/step - loss: 0.5106 - acc: 0.8897\n",
      "Epoch 54/200\n",
      "263/263 [==============================] - ETA: 0s - loss: 0.5007 - acc: 0.812 - 0s 231us/step - loss: 0.4694 - acc: 0.8935\n",
      "Epoch 55/200\n",
      "263/263 [==============================] - ETA: 0s - loss: 0.5923 - acc: 0.718 - ETA: 0s - loss: 0.4984 - acc: 0.837 - 0s 311us/step - loss: 0.4974 - acc: 0.8593\n",
      "Epoch 56/200\n",
      "263/263 [==============================] - ETA: 0s - loss: 0.5098 - acc: 0.812 - ETA: 0s - loss: 0.4562 - acc: 0.916 - 0s 315us/step - loss: 0.4672 - acc: 0.9087\n",
      "Epoch 57/200\n",
      "263/263 [==============================] - ETA: 0s - loss: 0.3476 - acc: 0.937 - ETA: 0s - loss: 0.4549 - acc: 0.914 - 0s 410us/step - loss: 0.4540 - acc: 0.9163\n",
      "Epoch 58/200\n",
      "263/263 [==============================] - ETA: 0s - loss: 0.3898 - acc: 0.937 - ETA: 0s - loss: 0.4304 - acc: 0.919 - 0s 303us/step - loss: 0.4250 - acc: 0.9278\n",
      "Epoch 59/200\n",
      "263/263 [==============================] - ETA: 0s - loss: 0.2833 - acc: 1.000 - ETA: 0s - loss: 0.4157 - acc: 0.947 - 0s 311us/step - loss: 0.4382 - acc: 0.9202\n",
      "Epoch 60/200\n",
      "263/263 [==============================] - ETA: 0s - loss: 0.4045 - acc: 0.937 - ETA: 0s - loss: 0.3861 - acc: 0.921 - ETA: 0s - loss: 0.3989 - acc: 0.921 - 0s 527us/step - loss: 0.4233 - acc: 0.9087\n",
      "Epoch 61/200\n",
      "263/263 [==============================] - ETA: 0s - loss: 0.3086 - acc: 0.937 - ETA: 0s - loss: 0.4068 - acc: 0.906 - 0s 303us/step - loss: 0.4092 - acc: 0.9125\n",
      "Epoch 62/200\n",
      "263/263 [==============================] - ETA: 0s - loss: 0.3171 - acc: 0.968 - ETA: 0s - loss: 0.3969 - acc: 0.914 - 0s 277us/step - loss: 0.3997 - acc: 0.9125\n",
      "Epoch 63/200\n",
      "263/263 [==============================] - ETA: 0s - loss: 0.4580 - acc: 0.843 - 0s 220us/step - loss: 0.3891 - acc: 0.9278\n",
      "Epoch 64/200\n",
      "263/263 [==============================] - ETA: 0s - loss: 0.3896 - acc: 0.937 - 0s 197us/step - loss: 0.3902 - acc: 0.9544\n",
      "Epoch 65/200\n",
      "263/263 [==============================] - ETA: 0s - loss: 0.2778 - acc: 0.968 - ETA: 0s - loss: 0.4024 - acc: 0.942 - 0s 330us/step - loss: 0.3788 - acc: 0.9468\n",
      "Epoch 66/200\n",
      "263/263 [==============================] - ETA: 0s - loss: 0.3294 - acc: 0.937 - 0s 224us/step - loss: 0.3745 - acc: 0.9163\n",
      "Epoch 67/200\n",
      "263/263 [==============================] - ETA: 0s - loss: 0.3989 - acc: 0.875 - 0s 228us/step - loss: 0.3697 - acc: 0.9240\n",
      "Epoch 68/200\n",
      "263/263 [==============================] - ETA: 0s - loss: 0.3331 - acc: 0.968 - 0s 212us/step - loss: 0.3397 - acc: 0.9354\n",
      "Epoch 69/200\n",
      "263/263 [==============================] - ETA: 0s - loss: 0.3074 - acc: 0.937 - ETA: 0s - loss: 0.3519 - acc: 0.929 - 0s 281us/step - loss: 0.3474 - acc: 0.9316\n",
      "Epoch 70/200\n",
      "263/263 [==============================] - ETA: 0s - loss: 0.4306 - acc: 0.937 - 0s 224us/step - loss: 0.3581 - acc: 0.9430\n",
      "Epoch 71/200\n",
      "263/263 [==============================] - ETA: 0s - loss: 0.2927 - acc: 0.968 - 0s 201us/step - loss: 0.3200 - acc: 0.9468\n",
      "Epoch 72/200\n",
      "263/263 [==============================] - ETA: 0s - loss: 0.3202 - acc: 0.937 - ETA: 0s - loss: 0.3249 - acc: 0.933 - 0s 288us/step - loss: 0.3333 - acc: 0.9316\n",
      "Epoch 73/200\n",
      "263/263 [==============================] - ETA: 0s - loss: 0.3455 - acc: 0.937 - 0s 224us/step - loss: 0.3052 - acc: 0.9468\n",
      "Epoch 74/200\n",
      "263/263 [==============================] - ETA: 0s - loss: 0.1993 - acc: 1.000 - ETA: 0s - loss: 0.3044 - acc: 0.968 - 0s 269us/step - loss: 0.3040 - acc: 0.9696\n",
      "Epoch 75/200\n",
      "263/263 [==============================] - ETA: 0s - loss: 0.3925 - acc: 0.937 - 0s 239us/step - loss: 0.2922 - acc: 0.9658\n",
      "Epoch 76/200\n",
      "263/263 [==============================] - ETA: 0s - loss: 0.4037 - acc: 0.875 - ETA: 0s - loss: 0.2964 - acc: 0.921 - 0s 284us/step - loss: 0.2894 - acc: 0.9240\n",
      "Epoch 77/200\n",
      "263/263 [==============================] - ETA: 0s - loss: 0.4137 - acc: 0.937 - 0s 235us/step - loss: 0.3000 - acc: 0.9392\n",
      "Epoch 78/200\n",
      "263/263 [==============================] - ETA: 0s - loss: 0.2610 - acc: 0.937 - 0s 220us/step - loss: 0.2911 - acc: 0.9430\n",
      "Epoch 79/200\n",
      "263/263 [==============================] - ETA: 0s - loss: 0.3659 - acc: 0.937 - 0s 235us/step - loss: 0.2964 - acc: 0.9392\n",
      "Epoch 80/200\n",
      "263/263 [==============================] - ETA: 0s - loss: 0.2213 - acc: 0.968 - 0s 239us/step - loss: 0.2630 - acc: 0.9544\n",
      "Epoch 81/200\n",
      "263/263 [==============================] - ETA: 0s - loss: 0.3758 - acc: 0.906 - 0s 224us/step - loss: 0.2558 - acc: 0.9620\n",
      "Epoch 82/200\n",
      "263/263 [==============================] - ETA: 0s - loss: 0.2313 - acc: 0.937 - 0s 209us/step - loss: 0.2607 - acc: 0.9544\n",
      "Epoch 83/200\n",
      "263/263 [==============================] - ETA: 0s - loss: 0.2240 - acc: 0.968 - 0s 209us/step - loss: 0.2474 - acc: 0.9582\n",
      "Epoch 84/200\n",
      "263/263 [==============================] - ETA: 0s - loss: 0.2066 - acc: 0.937 - ETA: 0s - loss: 0.2484 - acc: 0.968 - 0s 307us/step - loss: 0.2547 - acc: 0.9658\n",
      "Epoch 85/200\n",
      "263/263 [==============================] - ETA: 0s - loss: 0.2376 - acc: 0.875 - 0s 197us/step - loss: 0.2519 - acc: 0.9506\n",
      "Epoch 86/200\n",
      "263/263 [==============================] - ETA: 0s - loss: 0.2076 - acc: 1.000 - ETA: 0s - loss: 0.2318 - acc: 0.957 - 0s 269us/step - loss: 0.2330 - acc: 0.9544\n",
      "Epoch 87/200\n",
      "263/263 [==============================] - ETA: 0s - loss: 0.2886 - acc: 0.937 - 0s 224us/step - loss: 0.2657 - acc: 0.9430\n",
      "Epoch 88/200\n",
      "263/263 [==============================] - ETA: 0s - loss: 0.2607 - acc: 0.968 - 0s 212us/step - loss: 0.2495 - acc: 0.9392\n",
      "Epoch 89/200\n",
      "263/263 [==============================] - ETA: 0s - loss: 0.2528 - acc: 0.906 - 0s 212us/step - loss: 0.2267 - acc: 0.9658\n",
      "Epoch 90/200\n",
      "263/263 [==============================] - ETA: 0s - loss: 0.2064 - acc: 0.968 - 0s 212us/step - loss: 0.2449 - acc: 0.9392\n",
      "Epoch 91/200\n",
      "263/263 [==============================] - ETA: 0s - loss: 0.2140 - acc: 0.937 - 0s 212us/step - loss: 0.2103 - acc: 0.9696\n",
      "Epoch 92/200\n",
      "263/263 [==============================] - ETA: 0s - loss: 0.2149 - acc: 0.968 - 0s 235us/step - loss: 0.2014 - acc: 0.9620\n",
      "Epoch 93/200\n",
      "263/263 [==============================] - ETA: 0s - loss: 0.2102 - acc: 0.968 - 0s 212us/step - loss: 0.2179 - acc: 0.9658\n",
      "Epoch 94/200\n",
      "263/263 [==============================] - ETA: 0s - loss: 0.2280 - acc: 0.937 - 0s 228us/step - loss: 0.1893 - acc: 0.9734\n",
      "Epoch 95/200\n",
      "263/263 [==============================] - ETA: 0s - loss: 0.1582 - acc: 0.968 - 0s 250us/step - loss: 0.1919 - acc: 0.9620\n",
      "Epoch 96/200\n",
      "263/263 [==============================] - ETA: 0s - loss: 0.2328 - acc: 0.968 - 0s 224us/step - loss: 0.2103 - acc: 0.9582\n",
      "Epoch 97/200\n",
      "263/263 [==============================] - ETA: 0s - loss: 0.1793 - acc: 0.968 - 0s 193us/step - loss: 0.1890 - acc: 0.9620\n",
      "Epoch 98/200\n",
      "263/263 [==============================] - ETA: 0s - loss: 0.1448 - acc: 0.968 - 0s 197us/step - loss: 0.1819 - acc: 0.9734\n",
      "Epoch 99/200\n",
      "263/263 [==============================] - ETA: 0s - loss: 0.1020 - acc: 1.000 - 0s 193us/step - loss: 0.1887 - acc: 0.9620\n",
      "Epoch 100/200\n",
      "263/263 [==============================] - ETA: 0s - loss: 0.1617 - acc: 0.968 - 0s 205us/step - loss: 0.2002 - acc: 0.9506\n",
      "Epoch 101/200\n",
      "263/263 [==============================] - ETA: 0s - loss: 0.1067 - acc: 1.000 - 0s 220us/step - loss: 0.1692 - acc: 0.9772\n",
      "Epoch 102/200\n",
      "263/263 [==============================] - ETA: 0s - loss: 0.1919 - acc: 0.906 - 0s 250us/step - loss: 0.1816 - acc: 0.9468\n",
      "Epoch 103/200\n",
      "263/263 [==============================] - ETA: 0s - loss: 0.1733 - acc: 0.968 - 0s 216us/step - loss: 0.1639 - acc: 0.9620\n",
      "Epoch 104/200\n",
      "263/263 [==============================] - ETA: 0s - loss: 0.1369 - acc: 1.000 - 0s 201us/step - loss: 0.1668 - acc: 0.9696\n",
      "Epoch 105/200\n",
      "263/263 [==============================] - ETA: 0s - loss: 0.1411 - acc: 1.000 - ETA: 0s - loss: 0.1576 - acc: 0.976 - 0s 281us/step - loss: 0.1569 - acc: 0.9772\n",
      "Epoch 106/200\n",
      "263/263 [==============================] - ETA: 0s - loss: 0.1422 - acc: 0.968 - 0s 239us/step - loss: 0.1725 - acc: 0.9544\n"
     ]
    },
    {
     "name": "stdout",
     "output_type": "stream",
     "text": [
      "Epoch 107/200\n",
      "263/263 [==============================] - ETA: 0s - loss: 0.0764 - acc: 1.000 - ETA: 0s - loss: 0.1435 - acc: 0.977 - 0s 303us/step - loss: 0.1536 - acc: 0.9772\n",
      "Epoch 108/200\n",
      "263/263 [==============================] - ETA: 0s - loss: 0.1615 - acc: 0.968 - 0s 216us/step - loss: 0.1531 - acc: 0.9734\n",
      "Epoch 109/200\n",
      "263/263 [==============================] - ETA: 0s - loss: 0.1783 - acc: 1.000 - 0s 193us/step - loss: 0.1476 - acc: 0.9696\n",
      "Epoch 110/200\n",
      "263/263 [==============================] - ETA: 0s - loss: 0.1587 - acc: 1.000 - 0s 224us/step - loss: 0.1613 - acc: 0.9582\n",
      "Epoch 111/200\n",
      "263/263 [==============================] - ETA: 0s - loss: 0.1219 - acc: 1.000 - 0s 235us/step - loss: 0.1409 - acc: 0.9772\n",
      "Epoch 112/200\n",
      "263/263 [==============================] - ETA: 0s - loss: 0.0954 - acc: 0.968 - 0s 205us/step - loss: 0.1602 - acc: 0.9468\n",
      "Epoch 113/200\n",
      "263/263 [==============================] - ETA: 0s - loss: 0.2479 - acc: 0.906 - 0s 231us/step - loss: 0.1682 - acc: 0.9506\n",
      "Epoch 114/200\n",
      "263/263 [==============================] - ETA: 0s - loss: 0.1359 - acc: 1.000 - 0s 220us/step - loss: 0.1411 - acc: 0.9810\n",
      "Epoch 115/200\n",
      "263/263 [==============================] - ETA: 0s - loss: 0.1645 - acc: 0.968 - 0s 224us/step - loss: 0.1564 - acc: 0.9658\n",
      "Epoch 116/200\n",
      "263/263 [==============================] - ETA: 0s - loss: 0.0973 - acc: 1.000 - 0s 212us/step - loss: 0.1466 - acc: 0.9696\n",
      "Epoch 117/200\n",
      "263/263 [==============================] - ETA: 0s - loss: 0.2568 - acc: 0.906 - 0s 208us/step - loss: 0.1373 - acc: 0.9658\n",
      "Epoch 118/200\n",
      "263/263 [==============================] - ETA: 0s - loss: 0.2034 - acc: 0.968 - 0s 190us/step - loss: 0.1345 - acc: 0.9848\n",
      "Epoch 119/200\n",
      "263/263 [==============================] - ETA: 0s - loss: 0.1522 - acc: 0.968 - ETA: 0s - loss: 0.1383 - acc: 0.972 - 0s 292us/step - loss: 0.1385 - acc: 0.9734\n",
      "Epoch 120/200\n",
      "263/263 [==============================] - ETA: 0s - loss: 0.1101 - acc: 1.000 - 0s 205us/step - loss: 0.1197 - acc: 0.9924\n",
      "Epoch 121/200\n",
      "263/263 [==============================] - ETA: 0s - loss: 0.0650 - acc: 1.000 - 0s 224us/step - loss: 0.1097 - acc: 0.9886\n",
      "Epoch 122/200\n",
      "263/263 [==============================] - ETA: 0s - loss: 0.0683 - acc: 1.000 - 0s 231us/step - loss: 0.1236 - acc: 0.9772\n",
      "Epoch 123/200\n",
      "263/263 [==============================] - ETA: 0s - loss: 0.1212 - acc: 1.000 - 0s 220us/step - loss: 0.1302 - acc: 0.9810\n",
      "Epoch 124/200\n",
      "263/263 [==============================] - ETA: 0s - loss: 0.1734 - acc: 0.968 - 0s 216us/step - loss: 0.1286 - acc: 0.9810\n",
      "Epoch 125/200\n",
      "263/263 [==============================] - ETA: 0s - loss: 0.1093 - acc: 0.968 - 0s 209us/step - loss: 0.1205 - acc: 0.9886\n",
      "Epoch 126/200\n",
      "263/263 [==============================] - ETA: 0s - loss: 0.0733 - acc: 0.968 - ETA: 0s - loss: 0.1085 - acc: 0.980 - 0s 303us/step - loss: 0.1081 - acc: 0.9810\n",
      "Epoch 127/200\n",
      "263/263 [==============================] - ETA: 0s - loss: 0.1359 - acc: 0.968 - 0s 231us/step - loss: 0.1224 - acc: 0.9696\n",
      "Epoch 128/200\n",
      "263/263 [==============================] - ETA: 0s - loss: 0.0637 - acc: 1.000 - 0s 209us/step - loss: 0.1059 - acc: 0.9886\n",
      "Epoch 129/200\n",
      "263/263 [==============================] - ETA: 0s - loss: 0.1320 - acc: 0.937 - 0s 216us/step - loss: 0.1122 - acc: 0.9734\n",
      "Epoch 130/200\n",
      "263/263 [==============================] - ETA: 0s - loss: 0.1283 - acc: 0.968 - 0s 205us/step - loss: 0.1264 - acc: 0.9886\n",
      "Epoch 131/200\n",
      "263/263 [==============================] - ETA: 0s - loss: 0.1222 - acc: 1.000 - 0s 216us/step - loss: 0.1019 - acc: 0.9886\n",
      "Epoch 132/200\n",
      "263/263 [==============================] - ETA: 0s - loss: 0.0657 - acc: 1.000 - ETA: 0s - loss: 0.0794 - acc: 0.991 - 0s 288us/step - loss: 0.0795 - acc: 0.9924\n",
      "Epoch 133/200\n",
      "263/263 [==============================] - ETA: 0s - loss: 0.0710 - acc: 1.000 - 0s 235us/step - loss: 0.1307 - acc: 0.9620\n",
      "Epoch 134/200\n",
      "263/263 [==============================] - ETA: 0s - loss: 0.0859 - acc: 1.000 - 0s 212us/step - loss: 0.0998 - acc: 0.9810\n",
      "Epoch 135/200\n",
      "263/263 [==============================] - ETA: 0s - loss: 0.0758 - acc: 1.000 - 0s 224us/step - loss: 0.0932 - acc: 0.9848\n",
      "Epoch 136/200\n",
      "263/263 [==============================] - ETA: 0s - loss: 0.0931 - acc: 1.000 - 0s 216us/step - loss: 0.0943 - acc: 0.9810\n",
      "Epoch 137/200\n",
      "263/263 [==============================] - ETA: 0s - loss: 0.1441 - acc: 0.968 - 0s 193us/step - loss: 0.1044 - acc: 0.9772\n",
      "Epoch 138/200\n",
      "263/263 [==============================] - ETA: 0s - loss: 0.1161 - acc: 0.937 - 0s 216us/step - loss: 0.1017 - acc: 0.9848\n",
      "Epoch 139/200\n",
      "263/263 [==============================] - ETA: 0s - loss: 0.1067 - acc: 1.000 - ETA: 0s - loss: 0.0931 - acc: 0.984 - 0s 292us/step - loss: 0.0943 - acc: 0.9848\n",
      "Epoch 140/200\n",
      "263/263 [==============================] - ETA: 0s - loss: 0.0527 - acc: 1.000 - ETA: 0s - loss: 0.1156 - acc: 0.968 - 0s 330us/step - loss: 0.1137 - acc: 0.9734\n",
      "Epoch 141/200\n",
      "263/263 [==============================] - ETA: 0s - loss: 0.1044 - acc: 0.968 - 0s 216us/step - loss: 0.1091 - acc: 0.9696\n",
      "Epoch 142/200\n",
      "263/263 [==============================] - ETA: 0s - loss: 0.0834 - acc: 0.968 - 0s 212us/step - loss: 0.0852 - acc: 0.9810\n",
      "Epoch 143/200\n",
      "263/263 [==============================] - ETA: 0s - loss: 0.0757 - acc: 1.000 - 0s 231us/step - loss: 0.0967 - acc: 0.9810\n",
      "Epoch 144/200\n",
      "263/263 [==============================] - ETA: 0s - loss: 0.1081 - acc: 1.000 - 0s 220us/step - loss: 0.1010 - acc: 0.9734\n",
      "Epoch 145/200\n",
      "263/263 [==============================] - ETA: 0s - loss: 0.1342 - acc: 0.968 - ETA: 0s - loss: 0.0719 - acc: 0.992 - 0s 277us/step - loss: 0.0700 - acc: 0.9924\n",
      "Epoch 146/200\n",
      "263/263 [==============================] - ETA: 0s - loss: 0.0693 - acc: 1.000 - ETA: 0s - loss: 0.0777 - acc: 0.986 - 0s 319us/step - loss: 0.0911 - acc: 0.9810\n",
      "Epoch 147/200\n",
      "263/263 [==============================] - ETA: 0s - loss: 0.1382 - acc: 0.937 - 0s 239us/step - loss: 0.0810 - acc: 0.9810\n",
      "Epoch 148/200\n",
      "263/263 [==============================] - ETA: 0s - loss: 0.1281 - acc: 0.968 - 0s 220us/step - loss: 0.0859 - acc: 0.9924\n",
      "Epoch 149/200\n",
      "263/263 [==============================] - ETA: 0s - loss: 0.0530 - acc: 1.000 - ETA: 0s - loss: 0.0799 - acc: 0.992 - 0s 277us/step - loss: 0.0816 - acc: 0.9886\n",
      "Epoch 150/200\n",
      "263/263 [==============================] - ETA: 0s - loss: 0.0724 - acc: 0.968 - 0s 239us/step - loss: 0.0814 - acc: 0.9810\n",
      "Epoch 151/200\n",
      "263/263 [==============================] - ETA: 0s - loss: 0.0347 - acc: 1.000 - 0s 197us/step - loss: 0.0814 - acc: 0.9810\n",
      "Epoch 152/200\n",
      "263/263 [==============================] - ETA: 0s - loss: 0.0724 - acc: 1.000 - 0s 235us/step - loss: 0.1320 - acc: 0.9696\n",
      "Epoch 153/200\n",
      "263/263 [==============================] - ETA: 0s - loss: 0.1301 - acc: 0.937 - ETA: 0s - loss: 0.0832 - acc: 0.980 - 0s 319us/step - loss: 0.0817 - acc: 0.9810\n",
      "Epoch 154/200\n",
      "263/263 [==============================] - ETA: 0s - loss: 0.0462 - acc: 1.000 - 0s 220us/step - loss: 0.0900 - acc: 0.9810\n",
      "Epoch 155/200\n",
      "263/263 [==============================] - ETA: 0s - loss: 0.1088 - acc: 1.000 - 0s 216us/step - loss: 0.0807 - acc: 0.9848\n",
      "Epoch 156/200\n",
      "263/263 [==============================] - ETA: 0s - loss: 0.1693 - acc: 0.937 - 0s 209us/step - loss: 0.0974 - acc: 0.9772\n",
      "Epoch 157/200\n",
      "263/263 [==============================] - ETA: 0s - loss: 0.0598 - acc: 1.000 - 0s 224us/step - loss: 0.0581 - acc: 0.9924\n",
      "Epoch 158/200\n",
      "263/263 [==============================] - ETA: 0s - loss: 0.0908 - acc: 0.968 - 0s 216us/step - loss: 0.0842 - acc: 0.9848\n",
      "Epoch 159/200\n",
      "263/263 [==============================] - ETA: 0s - loss: 0.0335 - acc: 1.000 - ETA: 0s - loss: 0.0830 - acc: 0.984 - 0s 281us/step - loss: 0.0862 - acc: 0.9848\n",
      "Epoch 160/200\n",
      "263/263 [==============================] - ETA: 0s - loss: 0.0810 - acc: 0.968 - 0s 209us/step - loss: 0.0844 - acc: 0.9848\n",
      "Epoch 161/200\n",
      "263/263 [==============================] - ETA: 0s - loss: 0.1012 - acc: 0.968 - 0s 212us/step - loss: 0.0761 - acc: 0.9772\n",
      "Epoch 162/200\n",
      "263/263 [==============================] - ETA: 0s - loss: 0.1248 - acc: 0.968 - 0s 205us/step - loss: 0.0715 - acc: 0.9810\n",
      "Epoch 163/200\n"
     ]
    },
    {
     "name": "stdout",
     "output_type": "stream",
     "text": [
      "263/263 [==============================] - ETA: 0s - loss: 0.0697 - acc: 0.968 - 0s 205us/step - loss: 0.0780 - acc: 0.9810\n",
      "Epoch 164/200\n",
      "263/263 [==============================] - ETA: 0s - loss: 0.0752 - acc: 1.000 - 0s 220us/step - loss: 0.0722 - acc: 0.9886\n",
      "Epoch 165/200\n",
      "263/263 [==============================] - ETA: 0s - loss: 0.0434 - acc: 0.968 - 0s 254us/step - loss: 0.0842 - acc: 0.9772\n",
      "Epoch 166/200\n",
      "263/263 [==============================] - ETA: 0s - loss: 0.0174 - acc: 1.000 - ETA: 0s - loss: 0.0591 - acc: 1.000 - 0s 281us/step - loss: 0.0616 - acc: 0.9962\n",
      "Epoch 167/200\n",
      "263/263 [==============================] - ETA: 0s - loss: 0.0600 - acc: 1.000 - 0s 212us/step - loss: 0.0691 - acc: 0.9924\n",
      "Epoch 168/200\n",
      "263/263 [==============================] - ETA: 0s - loss: 0.0594 - acc: 0.968 - 0s 212us/step - loss: 0.0639 - acc: 0.9886\n",
      "Epoch 169/200\n",
      "263/263 [==============================] - ETA: 0s - loss: 0.0162 - acc: 1.000 - 0s 235us/step - loss: 0.0636 - acc: 0.9848\n",
      "Epoch 170/200\n",
      "263/263 [==============================] - ETA: 0s - loss: 0.1115 - acc: 1.000 - 0s 205us/step - loss: 0.0744 - acc: 0.9886\n",
      "Epoch 171/200\n",
      "263/263 [==============================] - ETA: 0s - loss: 0.1681 - acc: 0.937 - ETA: 0s - loss: 0.0776 - acc: 0.984 - 0s 277us/step - loss: 0.0851 - acc: 0.9810\n",
      "Epoch 172/200\n",
      "263/263 [==============================] - ETA: 0s - loss: 0.0605 - acc: 1.000 - 0s 231us/step - loss: 0.0789 - acc: 0.9848\n",
      "Epoch 173/200\n",
      "263/263 [==============================] - ETA: 0s - loss: 0.0833 - acc: 1.000 - 0s 205us/step - loss: 0.0617 - acc: 0.9962\n",
      "Epoch 174/200\n",
      "263/263 [==============================] - ETA: 0s - loss: 0.0456 - acc: 1.000 - 0s 212us/step - loss: 0.0618 - acc: 0.9886\n",
      "Epoch 175/200\n",
      "263/263 [==============================] - ETA: 0s - loss: 0.0574 - acc: 0.968 - 0s 220us/step - loss: 0.0626 - acc: 0.9886\n",
      "Epoch 176/200\n",
      "263/263 [==============================] - ETA: 0s - loss: 0.0377 - acc: 1.000 - 0s 220us/step - loss: 0.0404 - acc: 0.9962\n",
      "Epoch 177/200\n",
      "263/263 [==============================] - ETA: 0s - loss: 0.1034 - acc: 0.937 - 0s 212us/step - loss: 0.0816 - acc: 0.9734\n",
      "Epoch 178/200\n",
      "263/263 [==============================] - ETA: 0s - loss: 0.0692 - acc: 0.968 - 0s 228us/step - loss: 0.0660 - acc: 0.9848\n",
      "Epoch 179/200\n",
      "263/263 [==============================] - ETA: 0s - loss: 0.0400 - acc: 1.000 - 0s 246us/step - loss: 0.0642 - acc: 0.9886\n",
      "Epoch 180/200\n",
      "263/263 [==============================] - ETA: 0s - loss: 0.0129 - acc: 1.000 - ETA: 0s - loss: 0.0462 - acc: 0.991 - 0s 326us/step - loss: 0.0442 - acc: 0.9924\n",
      "Epoch 181/200\n",
      "263/263 [==============================] - ETA: 0s - loss: 0.0295 - acc: 1.000 - 0s 220us/step - loss: 0.0614 - acc: 0.9886\n",
      "Epoch 182/200\n",
      "263/263 [==============================] - ETA: 0s - loss: 0.0284 - acc: 1.000 - 0s 197us/step - loss: 0.0547 - acc: 0.9886\n",
      "Epoch 183/200\n",
      "263/263 [==============================] - ETA: 0s - loss: 0.0688 - acc: 1.000 - 0s 224us/step - loss: 0.0719 - acc: 0.9886\n",
      "Epoch 184/200\n",
      "263/263 [==============================] - ETA: 0s - loss: 0.0639 - acc: 0.968 - 0s 228us/step - loss: 0.0531 - acc: 0.9886\n",
      "Epoch 185/200\n",
      "263/263 [==============================] - ETA: 0s - loss: 0.1045 - acc: 0.968 - 0s 235us/step - loss: 0.0626 - acc: 0.9886\n",
      "Epoch 186/200\n",
      "263/263 [==============================] - ETA: 0s - loss: 0.1066 - acc: 1.000 - 0s 212us/step - loss: 0.0642 - acc: 0.9886\n",
      "Epoch 187/200\n",
      "263/263 [==============================] - ETA: 0s - loss: 0.0980 - acc: 0.968 - 0s 216us/step - loss: 0.0571 - acc: 0.9886\n",
      "Epoch 188/200\n",
      "263/263 [==============================] - ETA: 0s - loss: 0.0184 - acc: 1.000 - ETA: 0s - loss: 0.0514 - acc: 0.992 - 0s 284us/step - loss: 0.0509 - acc: 0.9924\n",
      "Epoch 189/200\n",
      "263/263 [==============================] - ETA: 0s - loss: 0.0380 - acc: 1.000 - 0s 212us/step - loss: 0.0567 - acc: 0.9886\n",
      "Epoch 190/200\n",
      "263/263 [==============================] - ETA: 0s - loss: 0.0396 - acc: 1.000 - 0s 216us/step - loss: 0.0463 - acc: 0.9886\n",
      "Epoch 191/200\n",
      "263/263 [==============================] - ETA: 0s - loss: 0.0207 - acc: 1.000 - 0s 235us/step - loss: 0.0482 - acc: 0.9886\n",
      "Epoch 192/200\n",
      "263/263 [==============================] - ETA: 0s - loss: 0.0443 - acc: 1.000 - 0s 220us/step - loss: 0.0518 - acc: 0.9962\n",
      "Epoch 193/200\n",
      " 32/263 [==>...........................]"
     ]
    }
   ],
   "source": [
    "from rasa_core.policies import FallbackPolicy, KerasPolicy, MemoizationPolicy\n",
    "from rasa_core.agent import Agent\n",
    "\n",
    "# this will catch predictions the model isn't very certain about\n",
    "# there is a threshold for the NLU predictions as well as the action predictions\n",
    "fallback = FallbackPolicy(fallback_action_name=\"utter_unclear\",\n",
    "                          core_threshold=0.2,\n",
    "                          nlu_threshold=0.1)\n",
    "\n",
    "agent = Agent('domain.yml', policies=[MemoizationPolicy(), KerasPolicy(), fallback])\n",
    "\n",
    "# loading our neatly defined training dialogues\n",
    "training_data = agent.load_data('stories.md')\n",
    "\n",
    "agent.train(\n",
    "    training_data,\n",
    "    validation_split=0.0,\n",
    "    epochs=200\n",
    ")\n",
    "\n",
    "agent.persist('models/dialogue')"
   ]
  },
  {
   "cell_type": "markdown",
   "metadata": {},
   "source": [
    "## Starting up the bot (with NLU)\n",
    "Now it's time for the fun part - starting the agent and chatting with it. We are going to start the Agent by loading our just trained dialogue model and using the previously trained nlu model as an interpreter for incoming user inputs."
   ]
  },
  {
   "cell_type": "code",
   "execution_count": 13,
   "metadata": {
    "scrolled": false
   },
   "outputs": [
    {
     "name": "stderr",
     "output_type": "stream",
     "text": [
      "INFO:rasa_nlu.components:Added 'nlp_spacy' to component cache. Key 'nlp_spacy-en'.\n"
     ]
    }
   ],
   "source": [
    "from rasa_core.agent import Agent\n",
    "agent = Agent.load('models/dialogue', interpreter=model_directory)"
   ]
  },
  {
   "cell_type": "markdown",
   "metadata": {},
   "source": [
    "## Talking to the Bot (with NLU)\n",
    "Let's have a chat!"
   ]
  },
  {
   "cell_type": "code",
   "execution_count": 14,
   "metadata": {},
   "outputs": [
    {
     "name": "stdout",
     "output_type": "stream",
     "text": [
      "Your bot is ready to talk! Type your messages here or send 'stop'\n",
      "stop\n"
     ]
    }
   ],
   "source": [
    "print(\"Your bot is ready to talk! Type your messages here or send 'stop'\")\n",
    "while True:\n",
    "    a = input()\n",
    "    if a == 'stop':\n",
    "        break\n",
    "    responses = agent.handle_message(a)\n",
    "    for response in responses:\n",
    "        print(response[\"text\"])"
   ]
  },
  {
   "cell_type": "code",
   "execution_count": 15,
   "metadata": {},
   "outputs": [
    {
     "name": "stdout",
     "output_type": "stream",
     "text": [
      "Your bot is ready to talk! Type your messages here or send 'stop'\n",
      "stop\n"
     ]
    }
   ],
   "source": [
    "print(\"Your bot is ready to talk! Type your messages here or send 'stop'\")\n",
    "while True:\n",
    "    a = input()\n",
    "    if a == 'stop':\n",
    "        break\n",
    "    responses = agent.handle_message(a)\n",
    "    for response in responses:\n",
    "        print(response[\"text\"])"
   ]
  },
  {
   "cell_type": "markdown",
   "metadata": {},
   "source": [
    "## Evaluation of the dialogue model\n",
    "As with the NLU model, instead of just subjectively testing the model, we can also evaluate the model on a dataset. You'll be using the training data set again, but usually you'd use a test data set separate from the training data."
   ]
  },
  {
   "cell_type": "code",
   "execution_count": 16,
   "metadata": {},
   "outputs": [
    {
     "name": "stderr",
     "output_type": "stream",
     "text": [
      "Processed Story Blocks: 100%|██████████| 7/7 [00:00<00:00, 342.29it/s, # trackers=1]\n",
      "Processed Story Blocks: 100%|██████████| 7/7 [00:00<?, ?it/s]\n",
      "Processed Story Blocks: 100%|██████████| 7/7 [00:00<?, ?it/s]\n",
      "Processed Story Blocks: 100%|██████████| 7/7 [00:00<?, ?it/s]\n",
      "INFO:rasa_core.evaluate:Evaluating 7 stories\n",
      "Progress:\n",
      "100%|██████████| 7/7 [00:04<00:00,  1.53it/s]\n",
      "INFO:rasa_nlu.evaluate:F1-Score:  1.0\n",
      "INFO:rasa_nlu.evaluate:Precision: 1.0\n",
      "INFO:rasa_nlu.evaluate:Accuracy:  1.0\n",
      "INFO:rasa_nlu.evaluate:Classification report: \n",
      "                       precision    recall  f1-score   support\n",
      "\n",
      "        action_listen       1.00      1.00      1.00        18\n",
      "action_retrieve_image       1.00      1.00      1.00         3\n",
      "    utter_ask_picture       1.00      1.00      1.00         2\n",
      "  utter_did_that_help       1.00      1.00      1.00         3\n",
      "        utter_goodbye       1.00      1.00      1.00         3\n",
      "          utter_greet       1.00      1.00      1.00         4\n",
      "          utter_happy       1.00      1.00      1.00         5\n",
      "        utter_unclear       1.00      1.00      1.00         1\n",
      "\n",
      "          avg / total       1.00      1.00      1.00        39\n",
      "\n",
      "INFO:rasa_nlu.evaluate:Confusion matrix, without normalization: \n",
      "[[18  0  0  0  0  0  0  0]\n",
      " [ 0  3  0  0  0  0  0  0]\n",
      " [ 0  0  2  0  0  0  0  0]\n",
      " [ 0  0  0  3  0  0  0  0]\n",
      " [ 0  0  0  0  3  0  0  0]\n",
      " [ 0  0  0  0  0  4  0  0]\n",
      " [ 0  0  0  0  0  0  5  0]\n",
      " [ 0  0  0  0  0  0  0  1]]\n"
     ]
    },
    {
     "data": {
      "image/png": "[encoded data removed]",
      "text/plain": [
       "<Figure size 1440x1440 with 2 Axes>"
      ]
     },
     "metadata": {},
     "output_type": "display_data"
    }
   ],
   "source": [
    "from rasa_core.evaluate import run_story_evaluation\n",
    "\n",
    "run_story_evaluation(\"stories.md\", \"models/dialogue\", \n",
    "                     nlu_model_path=None, \n",
    "                     max_stories=None, \n",
    "                     out_file_plot=\"story_eval.pdf\")"
   ]
  },
  {
   "cell_type": "code",
   "execution_count": null,
   "metadata": {},
   "outputs": [],
   "source": []
  }
 ],
 "metadata": {
  "kernelspec": {
   "display_name": "Python 3",
   "language": "python",
   "name": "python3"
  },
  "language_info": {
   "codemirror_mode": {
    "name": "ipython",
    "version": 3
   },
   "file_extension": ".py",
   "mimetype": "text/x-python",
   "name": "python",
   "nbconvert_exporter": "python",
   "pygments_lexer": "ipython3",
   "version": "3.6.5"
  }
 },
 "nbformat": 4,
 "nbformat_minor": 2
}
